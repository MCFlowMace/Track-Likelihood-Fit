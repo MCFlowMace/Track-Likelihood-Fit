{
 "cells": [
  {
   "cell_type": "code",
   "execution_count": null,
   "metadata": {},
   "outputs": [],
   "source": [
    "import numpy as np\n",
    "import matplotlib.pyplot as plt\n",
    "import os\n",
    "import sys\n",
    "sys.path.insert(1, '../')\n",
    "from tracklikelihood.track import *\n",
    "from tracklikelihood.spectrogram import *\n",
    "from tracklikelihood.likelihood import *\n",
    "import time"
   ]
  },
  {
   "cell_type": "code",
   "execution_count": null,
   "metadata": {},
   "outputs": [],
   "source": [
    "os.chdir('../plots')"
   ]
  },
  {
   "cell_type": "code",
   "execution_count": null,
   "metadata": {},
   "outputs": [],
   "source": [
    "f_bins = 100\n",
    "t_bins = 100\n",
    "t_min = 0.0\n",
    "t_max = 50\n",
    "f_min = 10\n",
    "f_max = 200\n",
    "t=np.linspace(t_min, t_max, t_bins)\n",
    "f=np.linspace(f_min, f_max, f_bins)"
   ]
  },
  {
   "cell_type": "code",
   "execution_count": null,
   "metadata": {
    "scrolled": true
   },
   "outputs": [],
   "source": [
    "snr = 35\n",
    "sigma = 1.5\n",
    "t_start = 10\n",
    "f_start = 100\n",
    "length = 30\n",
    "slope = 1.05\n",
    "img_name = 'hi_snr_long'\n",
    "\n",
    "tracks=[Track.from_slope_and_length(t_start, f_start, slope, length, sigma, snr)]\n",
    "      \n",
    "spec_0 = Spectrogram.from_tracks(t, f, tracks, img_name)\n",
    "spec_0.plot()"
   ]
  },
  {
   "cell_type": "code",
   "execution_count": null,
   "metadata": {},
   "outputs": [],
   "source": [
    "dt = 0.001\n",
    "track_hypothesis = Track.from_slope_and_length(t_start, f_start+3*dt,#*slope, \n",
    "                                                                 slope, length, sigma, snr) \n",
    "\n",
    "plot_hypothesis(spec_0, t, f, track_hypothesis)"
   ]
  },
  {
   "cell_type": "code",
   "execution_count": null,
   "metadata": {},
   "outputs": [],
   "source": [
    "lh_func = lambda x, y: get_likelihood(img, t, f, \n",
    "                                       Track.from_slope_and_length(x, y, slope, length, sigma, snr))\n",
    "scan_and_plot_2d(lh_func, t_start-2, t_start+2, 0.01, t_start, f_start-5, f_start+5, 0.01, f_start, 't_start', 'f_start', img_name)"
   ]
  },
  {
   "cell_type": "code",
   "execution_count": null,
   "metadata": {
    "scrolled": false
   },
   "outputs": [],
   "source": [
    "\n",
    "lh_func = lambda x: get_likelihood(spec_0, t, f, \n",
    "                                       Track.from_slope_and_length(t_start, f_start, x, length, sigma, snr))\n",
    "scan_and_plot(lh_func, 0.1, 3.33, 0.01, slope, 'slope', img_name)\n",
    "\n",
    "\n",
    "lh_func = lambda x: get_likelihood(spec_0, t, f, \n",
    "                                       Track.from_slope_and_length(t_start, f_start, slope, x, sigma, snr))\n",
    "scan_and_plot(lh_func, 0.1, 50, 0.1, length, 'length', img_name)\n",
    "\n",
    "lh_func = lambda x: get_likelihood(spec_0, t, f, \n",
    "                                       Track.from_slope_and_length(t_start, f_start, slope, length, sigma, x))\n",
    "scan_and_plot(lh_func, 0.1, 35, 0.1, snr, 'snr', img_name)\n",
    "\n",
    "lh_func = lambda x: get_likelihood(spec_0, t, f, \n",
    "                                       Track.from_slope_and_length(t_start, f_start, slope, length, x, snr))\n",
    "scan_and_plot(lh_func, 0.1, 5, 0.01, sigma, 'sigma', img_name)\n",
    "\n",
    "lh_func = lambda x: get_likelihood(spec_0, t, f, \n",
    "                                       Track.from_slope_and_length(x, f_start, slope, length, sigma, snr))\n",
    "scan_and_plot(lh_func, t_min, t_max, 0.01, t_start, 't_start', img_name)\n",
    "\n",
    "lh_func = lambda x: get_likelihood(spec_0, t, f, \n",
    "                                       Track.from_slope_and_length(t_start, x, slope, length, sigma, snr))\n",
    "scan_and_plot(lh_func, f_min, f_max, 1, f_start, 'f_start', img_name)"
   ]
  },
  {
   "cell_type": "code",
   "execution_count": null,
   "metadata": {},
   "outputs": [],
   "source": []
  }
 ],
 "metadata": {
  "kernelspec": {
   "display_name": "Python 3",
   "language": "python",
   "name": "python3"
  },
  "language_info": {
   "codemirror_mode": {
    "name": "ipython",
    "version": 3
   },
   "file_extension": ".py",
   "mimetype": "text/x-python",
   "name": "python",
   "nbconvert_exporter": "python",
   "pygments_lexer": "ipython3",
   "version": "3.8.0"
  }
 },
 "nbformat": 4,
 "nbformat_minor": 4
}
