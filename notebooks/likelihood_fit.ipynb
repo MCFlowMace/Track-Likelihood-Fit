{
 "cells": [
  {
   "cell_type": "code",
   "execution_count": null,
   "metadata": {},
   "outputs": [],
   "source": [
    "import numpy as np\n",
    "import matplotlib.pyplot as plt\n",
    "from scipy.stats import expon\n",
    "import os"
   ]
  },
  {
   "cell_type": "code",
   "execution_count": null,
   "metadata": {},
   "outputs": [],
   "source": [
    "os.chdir('../plots')"
   ]
  },
  {
   "cell_type": "code",
   "execution_count": null,
   "metadata": {},
   "outputs": [],
   "source": [
    "f_bins = 100\n",
    "t_bins = 100\n",
    "t_min = 0.0\n",
    "t_max = 50\n",
    "f_min = 10\n",
    "f_max = 200\n",
    "t=np.linspace(t_min, t_max, t_bins)\n",
    "f=np.linspace(f_min, f_max, f_bins)"
   ]
  },
  {
   "cell_type": "code",
   "execution_count": null,
   "metadata": {},
   "outputs": [],
   "source": [
    "def get_aspect(extent, shape):\n",
    "    \n",
    "    x_res = (extent[0] - extent[1])/shape[0]\n",
    "    y_res = (extent[2] - extent[3])/shape[1]\n",
    "    \n",
    "    return x_res/y_res"
   ]
  },
  {
   "cell_type": "code",
   "execution_count": null,
   "metadata": {},
   "outputs": [],
   "source": [
    "def plot_spectrogram(img, t_min, t_max, f_min, f_max, name=None):\n",
    "    \n",
    "    fig, ax = plt.subplots()    \n",
    "\n",
    "    extent = [t_min, t_max, f_min, f_max]\n",
    "    aspect = get_aspect(extent, img.shape)\n",
    "    \n",
    "    ax.imshow(np.transpose(img), extent=extent, origin='lower', aspect=aspect)\n",
    "    ax.set_xlabel('t')\n",
    "    ax.set_ylabel('f')\n",
    "    \n",
    "    if name:\n",
    "        plt.savefig(name+'.png', dpi=1200)\n",
    "        \n",
    "    plt.show()"
   ]
  },
  {
   "cell_type": "code",
   "execution_count": null,
   "metadata": {},
   "outputs": [],
   "source": [
    "def line(m, b, x):\n",
    "    return m*x + b\n",
    "\n",
    "def line_segment(t_start, t_end, f_start, f_end):\n",
    "    \n",
    "    dt = t_end - t_start\n",
    "    df = f_end - f_start\n",
    "    \n",
    "    m = df/dt\n",
    "    b = f_end - m*t_end\n",
    "    \n",
    "    return lambda x: line(m, b, x)\n",
    "\n",
    "def get_b_m(t_start, t_end, f_start, f_end):\n",
    "    \n",
    "    dt = t_end - t_start\n",
    "    df = f_end - f_start\n",
    "    \n",
    "    m = df/dt\n",
    "    b = f_end - m*t_end\n",
    "    \n",
    "    return b, m"
   ]
  },
  {
   "cell_type": "code",
   "execution_count": null,
   "metadata": {},
   "outputs": [],
   "source": [
    "def gauss(y, mu, sigma):\n",
    "    \n",
    "    return 1/(sigma*np.sqrt(2*np.pi))*np.exp(-(y-mu)**2/sigma)"
   ]
  },
  {
   "cell_type": "code",
   "execution_count": null,
   "metadata": {},
   "outputs": [],
   "source": [
    "def get_track_signal(signal, t, f, track):\n",
    "    \n",
    "    track_signal = np.zeros(shape=signal.shape)\n",
    "    \n",
    "    track_ind = (t>(track.t_start))&(t<(track.t_end))\n",
    "    \n",
    "    t_track = t[track_ind]\n",
    "    \n",
    "    ff, tt = np.meshgrid(f, t_track)\n",
    "    \n",
    "    mu = line_segment(track.t_start, track.t_end, track.f_start, track.f_end)\n",
    "    \n",
    "    track_signal[track_ind] = gauss(ff, mu(tt), track.sigma)\n",
    "    \n",
    "    return track_signal"
   ]
  },
  {
   "cell_type": "code",
   "execution_count": null,
   "metadata": {},
   "outputs": [],
   "source": [
    "class Track:\n",
    "    \n",
    "    def __init__(self, t_start, t_end, f_start, f_end, sigma, snr):\n",
    "        self.t_start = t_start\n",
    "        self.t_end = t_end\n",
    "        self.f_start = f_start\n",
    "        self.f_end = f_end\n",
    "        self.sigma = sigma\n",
    "        self.snr = snr\n",
    "    \n",
    "    def get_delta(self):\n",
    "        \n",
    "        dt = self.t_end - self.t_start\n",
    "        df = self.f_end - self.f_start\n",
    "        \n",
    "        return dt, df\n",
    "    \n",
    "    def get_slope(self):\n",
    "        \n",
    "        dt, df = self.get_delta()\n",
    "\n",
    "        return df/dt\n",
    "    \n",
    "    def get_length(self):\n",
    "\n",
    "        dt, df = self.get_delta()\n",
    "        \n",
    "        return np.sqrt(df**2 + dt**2)\n",
    "    \n",
    "    @classmethod\n",
    "    def from_slope_and_length(cls, t_start, f_start, slope, length, sigma, snr):\n",
    "        \n",
    "        #alpha = np.arctan(slope)\n",
    "        #df = np.sin(alpha)*length\n",
    "        #dt = np.cos(alpha)*length\n",
    "        dt = length\n",
    "        df = dt*slope\n",
    "        return cls(t_start, t_start+dt, f_start, f_start+df, sigma, snr)\n",
    "        "
   ]
  },
  {
   "cell_type": "code",
   "execution_count": null,
   "metadata": {},
   "outputs": [],
   "source": [
    "def get_spectrogram(tracks, t, f):\n",
    "    \n",
    "    signal = np.zeros((t.shape[0], f.shape[0]))\n",
    "    \n",
    "    for track in tracks:\n",
    "        signal += track.snr*get_track_signal(signal, t, f, track)\n",
    "        \n",
    "    noise = np.random.exponential(1, (t.shape[0], f.shape[0]))\n",
    "    \n",
    "    return signal + noise"
   ]
  },
  {
   "cell_type": "code",
   "execution_count": null,
   "metadata": {
    "scrolled": true
   },
   "outputs": [],
   "source": [
    "snr = 35\n",
    "sigma = 1.5\n",
    "t_start = 10\n",
    "f_start = 100\n",
    "length = 3\n",
    "slope = 1.05\n",
    "img_name = 'hi_snr_short'\n",
    "\n",
    "tracks=[Track.from_slope_and_length(t_start, f_start, slope, length, sigma, snr)]\n",
    "       #Track(40, 45, 160, 170, sigma, 40)] #, Track(10, 20, 145, 149), Track(20, 35, 250, 256), Track(35, 37, 400, 401)]\n",
    "img = get_spectrogram(tracks, t, f)\n",
    "\n",
    "plot_spectrogram(img, t_min, t_max, f_min, f_max, img_name)"
   ]
  },
  {
   "cell_type": "code",
   "execution_count": null,
   "metadata": {},
   "outputs": [],
   "source": [
    "def get_likelihood(spectrogram, t, f, track):\n",
    "    intensity_0 = get_track_signal(spectrogram, t, f, track)\n",
    "  #  noise_part = spectrogram - track.snr*intensity_0\n",
    "  #  probabilities = exp_prob(noise_part)\n",
    "    probabilities = expon.pdf(spectrogram, loc=track.snr*intensity_0)\n",
    "    \n",
    "    return - np.sum(np.log(np.maximum(probabilities, 1e-15)))"
   ]
  },
  {
   "cell_type": "code",
   "execution_count": null,
   "metadata": {},
   "outputs": [],
   "source": [
    "def scan_likelihood(scan_vals, likelihood_function):\n",
    "    lh = []\n",
    "    for val in scan_vals:\n",
    "        lh.append(likelihood_function(val))\n",
    "    \n",
    "    return lh"
   ]
  },
  {
   "cell_type": "code",
   "execution_count": null,
   "metadata": {},
   "outputs": [],
   "source": [
    "def scan_likelihood_2d(scan_vals_x, scan_vals_y, likelihood_function):\n",
    "    lh = []\n",
    "    for x in scan_vals_x:\n",
    "        lhx = []\n",
    "        for y in scan_vals_y:\n",
    "            lhx.append(likelihood_function(x,y))\n",
    "        lh.append(lhx)\n",
    "    \n",
    "    return lh"
   ]
  },
  {
   "cell_type": "code",
   "execution_count": null,
   "metadata": {},
   "outputs": [],
   "source": [
    "def scan_and_plot(lh_func, x_min, x_max, dx, x_real, label, name):\n",
    "    scan_vals = np.arange(x_min, x_max, dx)\n",
    "    lh_res = scan_likelihood(img, scan_vals, lh_func)\n",
    "\n",
    "    fig, ax = plt.subplots()\n",
    "    ax.plot(scan_vals, lh_res)\n",
    "    ax.vlines([x_real], min(lh_res), max(lh_res), color='r', ls='--', label='real '+ label)\n",
    "    ax.set_xlabel(label)\n",
    "    ax.set_ylabel('-loglikelihood')\n",
    "    ax.legend(loc='best')\n",
    "    plt.savefig(name + '_' + label + '_scan.png', dpi=600)\n",
    "    plt.show()"
   ]
  },
  {
   "cell_type": "code",
   "execution_count": null,
   "metadata": {},
   "outputs": [],
   "source": [
    "def scan_and_plot_2d(lh_func, x_min, x_max, dx, x_real, y_min, y_max, dy, y_real, x_label, y_label, name):\n",
    "    scan_vals_x = np.arange(x_min, x_max, dx)\n",
    "    scan_vals_y = np.arange(y_min, y_max, dy)\n",
    "    \n",
    "    lh_np = np.array(scan_likelihood_2d(scan_vals_x, scan_vals_y, lh_func))\n",
    "    \n",
    "    fig, ax = plt.subplots()\n",
    "    extent = [scan_vals_x[0],scan_vals_x[-1],scan_vals_y[0],scan_vals_y[-1]]\n",
    "    aspect = get_aspect(extent, lh_np.shape)\n",
    "    im=ax.imshow(lh_np, origin='lower', extent= extent, aspect=aspect)\n",
    "    ax.plot(x_real, y_real, marker='x', c='r')\n",
    "    cbar = fig.colorbar(im)\n",
    "    ax.set_xlabel(x_label)\n",
    "    ax.set_ylabel(y_label)\n",
    "    cbar.set_label('log-likelihood')\n",
    "    plt.savefig(name + '_' + x_label + '_' + y_label +'_scan.png',dpi=600)\n",
    "    plt.show()"
   ]
  },
  {
   "cell_type": "code",
   "execution_count": null,
   "metadata": {},
   "outputs": [],
   "source": [
    "lh_func = lambda x, y: get_likelihood(img, t, f, \n",
    "                                       Track.from_slope_and_length(x, y, slope, length, sigma, snr))\n",
    "scan_and_plot_2d(lh_func, t_start-10, t_start+10, 0.1, t_start, f_start-20, f_start+20, 0.1, f_start, 't_start', 'f_start', img_name)"
   ]
  },
  {
   "cell_type": "code",
   "execution_count": null,
   "metadata": {},
   "outputs": [],
   "source": [
    "lh_func = lambda x: get_likelihood(img, t, f, \n",
    "                                       Track.from_slope_and_length(t_start, f_start, x, length, sigma, snr))\n",
    "scan_and_plot(lh_func, 0.1, 3.33, 0.01, slope, 'slope', img_name)\n",
    "\n",
    "lh_func = lambda x: get_likelihood(img, t, f, \n",
    "                                       Track.from_slope_and_length(t_start, f_start, slope, x, sigma, snr))\n",
    "scan_and_plot(lh_func, 0.1, 50, 0.1, length, 'length', img_name)\n",
    "\n",
    "lh_func = lambda x: get_likelihood(img, t, f, \n",
    "                                       Track.from_slope_and_length(t_start, f_start, slope, length, sigma, x))\n",
    "scan_and_plot(lh_func, 0.1, 35, 0.1, snr, 'snr', img_name)\n",
    "\n",
    "lh_func = lambda x: get_likelihood(img, t, f, \n",
    "                                       Track.from_slope_and_length(t_start, f_start, slope, length, x, snr))\n",
    "scan_and_plot(lh_func, 0.1, 5, 0.01, sigma, 'sigma', img_name)\n",
    "\n",
    "lh_func = lambda x: get_likelihood(img, t, f, \n",
    "                                       Track.from_slope_and_length(x, f_start, slope, length, sigma, snr))\n",
    "scan_and_plot(lh_func, t_min, t_max, 0.01, t_start, 't_start', img_name)\n",
    "\n",
    "lh_func = lambda x: get_likelihood(img, t, f, \n",
    "                                       Track.from_slope_and_length(t_start, x, slope, length, sigma, snr))\n",
    "scan_and_plot(lh_func, f_min, f_max, 1, f_start, 'f_start', img_name)"
   ]
  },
  {
   "cell_type": "code",
   "execution_count": null,
   "metadata": {},
   "outputs": [],
   "source": []
  }
 ],
 "metadata": {
  "kernelspec": {
   "display_name": "Python 3",
   "language": "python",
   "name": "python3"
  },
  "language_info": {
   "codemirror_mode": {
    "name": "ipython",
    "version": 3
   },
   "file_extension": ".py",
   "mimetype": "text/x-python",
   "name": "python",
   "nbconvert_exporter": "python",
   "pygments_lexer": "ipython3",
   "version": "3.8.0"
  }
 },
 "nbformat": 4,
 "nbformat_minor": 4
}
