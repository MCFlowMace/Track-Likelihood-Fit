{
 "cells": [
  {
   "cell_type": "code",
   "execution_count": null,
   "metadata": {},
   "outputs": [],
   "source": [
    "import numpy as np\n",
    "import matplotlib.pyplot as plt\n",
    "import os\n",
    "import sys\n",
    "sys.path.insert(1, '../')\n",
    "from tracklikelihood.track import *\n",
    "from tracklikelihood.spectrogram import *\n",
    "from tracklikelihood.likelihood import *\n",
    "import time"
   ]
  },
  {
   "cell_type": "code",
   "execution_count": null,
   "metadata": {},
   "outputs": [],
   "source": [
    "os.chdir('../plots')"
   ]
  },
  {
   "cell_type": "code",
   "execution_count": null,
   "metadata": {},
   "outputs": [],
   "source": [
    "f_bins = 130\n",
    "t_bins = 200\n",
    "#t_min = 0.0\n",
    "#t_max = 50\n",
    "#f_min = 0\n",
    "#f_max = 100*1e6\n",
    "\n",
    "tminm = 4\n",
    "tmaxm = 12.2\n",
    "fminM = 8\n",
    "fmaxM = 11.2\n",
    "t_min = tminm*1e-3\n",
    "t_max = tmaxm*1e-3\n",
    "f_min = fminM*1e6\n",
    "f_max = fmaxM*1e6\n",
    "\n",
    "t=np.linspace(t_min, t_max, t_bins)\n",
    "f=np.linspace(f_min, f_max, f_bins)\n",
    "dt = t[1]-t[0]\n",
    "df = f[1]-f[0]"
   ]
  },
  {
   "cell_type": "code",
   "execution_count": null,
   "metadata": {
    "scrolled": false
   },
   "outputs": [],
   "source": [
    "#snr_in = 100000\n",
    "sigma_in = 0.05*df\n",
    "snr_in = 20*sigma_in*np.sqrt(2*np.pi)\n",
    "t_start_in = 4.2*1e-3\n",
    "f_start_in = 8.3*1e6\n",
    "length_in = 6.5*1e-3\n",
    "slope_in = 0.3523*1e9#df/dt #300 MHz/s\n",
    "img_name = 'hi_snr_long'\n",
    "\n",
    "tracks=[Track.from_slope_and_length(t_start_in, f_start_in, slope_in, length_in, sigma_in, snr_in)]\n",
    "      \n",
    "spec_0 = Spectrogram.from_tracks(t, f, tracks, img_name)\n",
    "spec_0.plot()"
   ]
  },
  {
   "cell_type": "code",
   "execution_count": null,
   "metadata": {},
   "outputs": [],
   "source": [
    "snr = snr_in\n",
    "length = length_in\n",
    "sigma = sigma_in\n",
    "t_start = t_start_in\n",
    "f_start = f_start_in\n",
    "slope = slope_in"
   ]
  },
  {
   "cell_type": "code",
   "execution_count": null,
   "metadata": {},
   "outputs": [],
   "source": [
    "dt = 0\n",
    "track_hypothesis = Track.from_slope_and_length(t_start+dt, f_start+dt*slope, \n",
    "                                                                 slope, length, sigma, snr) \n",
    "\n",
    "plot_hypothesis(spec_0, track_hypothesis)"
   ]
  },
  {
   "cell_type": "code",
   "execution_count": null,
   "metadata": {},
   "outputs": [],
   "source": [
    "scan_t = np.arange(t_min, t_max, 1)\n",
    "scan_f = np.arange(f_min, f_max, 1)\n",
    "scan_sl = np.arange(0.1, 1.5, 0.1)\n",
    "scan_snr = np.arange(1, 30, 1)\n",
    "scan_length = np.arange(0.1, t_max-t_min, 1)\n",
    "#scan_sigma = \n",
    "\n",
    "lh = np.empty(shape=[scan_t.shape[0], scan_f.shape[0], scan_sl.shape[0], scan_snr.shape[0], scan_length.shape[0]])\n",
    "\n",
    "for i, t_val in enumerate(scan_t):\n",
    "    for j, f_val in enumerate(scan_f):\n",
    "        for k, s_val in enumerate(scan_sl):\n",
    "            for l, snr_val in enumerate(scan_snr):\n",
    "                for m, length_val in enumerate(scan_length):\n",
    "                    lh[i,j,k,l,m] = get_likelihood(spec_0, t, f, Track.from_slope_and_length(t_val, f_val, s_val,\n",
    "                                                                                   length_val, sigma, snr_val))\n",
    "    print(i, 'of', scan_t.shape[0], 'iterations done')\n",
    "minimum = np.unravel_index(lh.argmin(), lh.shape)"
   ]
  },
  {
   "cell_type": "code",
   "execution_count": null,
   "metadata": {},
   "outputs": [],
   "source": [
    "print('minimum: ', scan_t[minimum[0]], scan_f[minimum[1]], scan_sl[minimum[2]], \n",
    "          scan_snr[minimum[3]], scan_length[minimum[4]])"
   ]
  },
  {
   "cell_type": "code",
   "execution_count": null,
   "metadata": {},
   "outputs": [],
   "source": [
    "4096/100"
   ]
  },
  {
   "cell_type": "code",
   "execution_count": null,
   "metadata": {},
   "outputs": [],
   "source": [
    "lh_func = lambda x, y: get_likelihood(spec_0, t, f, \n",
    "                                       Track.from_slope_and_length(x, y, slope, length, sigma, snr))\n",
    "scan_and_plot_2d(lh_func, t_start-2, t_start+2, 0.01, t_start, f_start-5, f_start+5, 0.01, f_start, 't_start', 'f_start', img_name)"
   ]
  },
  {
   "cell_type": "code",
   "execution_count": null,
   "metadata": {
    "scrolled": false
   },
   "outputs": [],
   "source": [
    "lh_func = lambda x: get_likelihood(spec_0,\n",
    "                                       Track.from_slope_and_length(t_start, f_start, x, length, sigma, snr))\n",
    "scan_and_plot(lh_func, 0.1*1e9, 3.33*1e9, 0.01*1e9, slope, 'slope', img_name)\n",
    "\n",
    "\n",
    "lh_func = lambda x: get_likelihood(spec_0, \n",
    "                                       Track.from_slope_and_length(t_start, f_start, slope, x, sigma, snr))\n",
    "scan_and_plot(lh_func, 0.1, 50, 0.1, length, 'length', img_name)\n",
    "\n",
    "lh_func = lambda x: get_likelihood(spec_0, \n",
    "                                       Track.from_slope_and_length(t_start, f_start, slope, length, sigma, x))\n",
    "scan_and_plot(lh_func, 0.1, 35, 0.1, snr, 'snr', img_name)\n",
    "\n",
    "lh_func = lambda x: get_likelihood(spec_0, \n",
    "                                       Track.from_slope_and_length(t_start, f_start, slope, length, x, snr))\n",
    "scan_and_plot(lh_func, 0.1, 5, 0.01, sigma, 'sigma', img_name)\n",
    "\n",
    "lh_func = lambda x: get_likelihood(spec_0, \n",
    "                                       Track.from_slope_and_length(x, f_start, slope, length, sigma, snr))\n",
    "scan_and_plot(lh_func, t_min, t_max, 0.01, t_start, 't_start', img_name)\n",
    "\n",
    "lh_func = lambda x: get_likelihood(spec_0, \n",
    "                                       Track.from_slope_and_length(t_start, x, slope, length, sigma, snr))\n",
    "scan_and_plot(lh_func, f_min, f_max, 1, f_start, 'f_start', img_name)"
   ]
  },
  {
   "cell_type": "code",
   "execution_count": null,
   "metadata": {},
   "outputs": [],
   "source": []
  }
 ],
 "metadata": {
  "kernelspec": {
   "display_name": "Python 3",
   "language": "python",
   "name": "python3"
  },
  "language_info": {
   "codemirror_mode": {
    "name": "ipython",
    "version": 3
   },
   "file_extension": ".py",
   "mimetype": "text/x-python",
   "name": "python",
   "nbconvert_exporter": "python",
   "pygments_lexer": "ipython3",
   "version": "3.6.3"
  }
 },
 "nbformat": 4,
 "nbformat_minor": 4
}
